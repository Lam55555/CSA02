{
 "cells": [
  {
   "cell_type": "markdown",
   "metadata": {},
   "source": [
    "## import pandas"
   ]
  },
  {
   "cell_type": "code",
   "execution_count": 2,
   "metadata": {},
   "outputs": [],
   "source": [
    "import pandas as pd"
   ]
  },
  {
   "cell_type": "markdown",
   "metadata": {},
   "source": [
    "## ds gv"
   ]
  },
  {
   "cell_type": "code",
   "execution_count": 8,
   "metadata": {},
   "outputs": [
    {
     "data": {
      "text/html": [
       "<div>\n",
       "<style scoped>\n",
       "    .dataframe tbody tr th:only-of-type {\n",
       "        vertical-align: middle;\n",
       "    }\n",
       "\n",
       "    .dataframe tbody tr th {\n",
       "        vertical-align: top;\n",
       "    }\n",
       "\n",
       "    .dataframe thead th {\n",
       "        text-align: right;\n",
       "    }\n",
       "</style>\n",
       "<table border=\"1\" class=\"dataframe\">\n",
       "  <thead>\n",
       "    <tr style=\"text-align: right;\">\n",
       "      <th></th>\n",
       "      <th>Name</th>\n",
       "      <th>Age</th>\n",
       "      <th>Class</th>\n",
       "      <th>Score</th>\n",
       "    </tr>\n",
       "  </thead>\n",
       "  <tbody>\n",
       "    <tr>\n",
       "      <th>0</th>\n",
       "      <td>Nguyen Van A</td>\n",
       "      <td>22</td>\n",
       "      <td>Python</td>\n",
       "      <td>85</td>\n",
       "    </tr>\n",
       "    <tr>\n",
       "      <th>1</th>\n",
       "      <td>Tran Thi B</td>\n",
       "      <td>21</td>\n",
       "      <td>JavaScript</td>\n",
       "      <td>90</td>\n",
       "    </tr>\n",
       "    <tr>\n",
       "      <th>2</th>\n",
       "      <td>Le Van C</td>\n",
       "      <td>23</td>\n",
       "      <td>Python</td>\n",
       "      <td>78</td>\n",
       "    </tr>\n",
       "    <tr>\n",
       "      <th>3</th>\n",
       "      <td>Pham Thi D</td>\n",
       "      <td>20</td>\n",
       "      <td>JavaScript</td>\n",
       "      <td>88</td>\n",
       "    </tr>\n",
       "    <tr>\n",
       "      <th>4</th>\n",
       "      <td>Hoang Van E</td>\n",
       "      <td>22</td>\n",
       "      <td>Python</td>\n",
       "      <td>95</td>\n",
       "    </tr>\n",
       "    <tr>\n",
       "      <th>5</th>\n",
       "      <td>Do Thi F</td>\n",
       "      <td>24</td>\n",
       "      <td>JavaScript</td>\n",
       "      <td>82</td>\n",
       "    </tr>\n",
       "    <tr>\n",
       "      <th>6</th>\n",
       "      <td>Bui Van G</td>\n",
       "      <td>23</td>\n",
       "      <td>Python</td>\n",
       "      <td>91</td>\n",
       "    </tr>\n",
       "    <tr>\n",
       "      <th>7</th>\n",
       "      <td>Nguyen Thi H</td>\n",
       "      <td>22</td>\n",
       "      <td>JavaScript</td>\n",
       "      <td>79</td>\n",
       "    </tr>\n",
       "    <tr>\n",
       "      <th>8</th>\n",
       "      <td>Le Van I</td>\n",
       "      <td>21</td>\n",
       "      <td>Python</td>\n",
       "      <td>86</td>\n",
       "    </tr>\n",
       "    <tr>\n",
       "      <th>9</th>\n",
       "      <td>Tran Van J</td>\n",
       "      <td>20</td>\n",
       "      <td>JavaScript</td>\n",
       "      <td>84</td>\n",
       "    </tr>\n",
       "  </tbody>\n",
       "</table>\n",
       "</div>"
      ],
      "text/plain": [
       "           Name  Age       Class  Score\n",
       "0  Nguyen Van A   22      Python     85\n",
       "1    Tran Thi B   21  JavaScript     90\n",
       "2      Le Van C   23      Python     78\n",
       "3    Pham Thi D   20  JavaScript     88\n",
       "4   Hoang Van E   22      Python     95\n",
       "5      Do Thi F   24  JavaScript     82\n",
       "6     Bui Van G   23      Python     91\n",
       "7  Nguyen Thi H   22  JavaScript     79\n",
       "8      Le Van I   21      Python     86\n",
       "9    Tran Van J   20  JavaScript     84"
      ]
     },
     "execution_count": 8,
     "metadata": {},
     "output_type": "execute_result"
    }
   ],
   "source": [
    "data = {\n",
    "    'Name': ['Nguyen Van A', 'Tran Thi B', 'Le Van C', 'Pham Thi D', 'Hoang Van E',\n",
    "             'Do Thi F', 'Bui Van G', 'Nguyen Thi H', 'Le Van I', 'Tran Van J'],\n",
    "    'Age': [22, 21, 23, 20, 22, 24, 23, 22, 21, 20],\n",
    "    'Class': ['Python', 'JavaScript', 'Python', 'JavaScript', 'Python', \n",
    "              'JavaScript', 'Python', 'JavaScript', 'Python', 'JavaScript'],\n",
    "    'Score': [85, 90, 78, 88, 95, 82, 91, 79, 86, 84]\n",
    "}\n",
    "\n",
    "df_gv = pd.DataFrame(data)\n",
    "df_gv"
   ]
  },
  {
   "cell_type": "markdown",
   "metadata": {},
   "source": [
    "## in 3 dòng đầu"
   ]
  },
  {
   "cell_type": "code",
   "execution_count": null,
   "metadata": {},
   "outputs": [],
   "source": [
    "df_gv.head(5)"
   ]
  },
  {
   "cell_type": "markdown",
   "metadata": {},
   "source": [
    "## xem có bao nhiêu cột"
   ]
  },
  {
   "cell_type": "code",
   "execution_count": 7,
   "metadata": {},
   "outputs": [
    {
     "data": {
      "text/plain": [
       "4"
      ]
     },
     "execution_count": 7,
     "metadata": {},
     "output_type": "execute_result"
    }
   ],
   "source": [
    "columns = df_gv.shape[1]\n",
    "columns"
   ]
  },
  {
   "cell_type": "markdown",
   "metadata": {},
   "source": [
    "## kieu du lieu"
   ]
  },
  {
   "cell_type": "code",
   "execution_count": null,
   "metadata": {},
   "outputs": [],
   "source": [
    "df_gv.dtypes"
   ]
  },
  {
   "cell_type": "markdown",
   "metadata": {},
   "source": [
    "## truy xuat cot age"
   ]
  },
  {
   "cell_type": "code",
   "execution_count": 11,
   "metadata": {},
   "outputs": [
    {
     "data": {
      "text/plain": [
       "0    22\n",
       "1    21\n",
       "2    23\n",
       "3    20\n",
       "4    22\n",
       "5    24\n",
       "6    23\n",
       "7    22\n",
       "8    21\n",
       "9    20\n",
       "Name: Age, dtype: int64"
      ]
     },
     "execution_count": 11,
     "metadata": {},
     "output_type": "execute_result"
    }
   ],
   "source": [
    "df_gv['Age']"
   ]
  },
  {
   "cell_type": "markdown",
   "metadata": {},
   "source": [
    "## Truy xuất Name \"Hoang Van E\", Class \"Python\""
   ]
  },
  {
   "cell_type": "code",
   "execution_count": 21,
   "metadata": {},
   "outputs": [
    {
     "name": "stdout",
     "output_type": "stream",
     "text": [
      "          Name  Age   Class  Score\n",
      "4  Hoang Van E   22  Python     95\n"
     ]
    }
   ],
   "source": [
    "hs_HVE = df_gv[(df_gv['Name']==\"Hoang Van E\") & (df_gv['Class']==\"Python\")]\n",
    "print(hs_HVE)"
   ]
  },
  {
   "cell_type": "markdown",
   "metadata": {},
   "source": [
    "## hs > 80d"
   ]
  },
  {
   "cell_type": "code",
   "execution_count": 24,
   "metadata": {},
   "outputs": [
    {
     "name": "stdout",
     "output_type": "stream",
     "text": [
      "         Name  Age       Class  Score\n",
      "1  Tran Thi B   21  JavaScript     90\n",
      "3  Pham Thi D   20  JavaScript     88\n",
      "5    Do Thi F   24  JavaScript     82\n",
      "9  Tran Van J   20  JavaScript     84\n"
     ]
    }
   ],
   "source": [
    "js80d = df_gv[(df_gv['Score']>80)&(df_gv['Class']==\"JavaScript\")]\n",
    "print(js80d)"
   ]
  }
 ],
 "metadata": {
  "kernelspec": {
   "display_name": "Python 3",
   "language": "python",
   "name": "python3"
  },
  "language_info": {
   "codemirror_mode": {
    "name": "ipython",
    "version": 3
   },
   "file_extension": ".py",
   "mimetype": "text/x-python",
   "name": "python",
   "nbconvert_exporter": "python",
   "pygments_lexer": "ipython3",
   "version": "3.12.2"
  }
 },
 "nbformat": 4,
 "nbformat_minor": 2
}
